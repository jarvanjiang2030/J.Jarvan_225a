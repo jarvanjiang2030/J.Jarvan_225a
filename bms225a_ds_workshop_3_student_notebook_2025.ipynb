{
  "nbformat": 4,
  "nbformat_minor": 0,
  "metadata": {
    "colab": {
      "provenance": [],
      "toc_visible": true,
      "collapsed_sections": [
        "N2Qm2qKabSwM"
      ],
      "include_colab_link": true
    },
    "kernelspec": {
      "name": "python3",
      "display_name": "Python 3"
    },
    "language_info": {
      "name": "python"
    }
  },
  "cells": [
    {
      "cell_type": "markdown",
      "metadata": {
        "id": "view-in-github",
        "colab_type": "text"
      },
      "source": [
        "<a href=\"https://colab.research.google.com/github/jarvanjiang2030/J.Jarvan_225a/blob/main/bms225a_ds_workshop_3_student_notebook_2025.ipynb\" target=\"_parent\"><img src=\"https://colab.research.google.com/assets/colab-badge.svg\" alt=\"Open In Colab\"/></a>"
      ]
    },
    {
      "cell_type": "markdown",
      "source": [
        "### Setup"
      ],
      "metadata": {
        "id": "N2Qm2qKabSwM"
      }
    },
    {
      "cell_type": "code",
      "source": [
        "# install scanpy with additional dependences\n",
        "# leiden for clustering, harmony for batch correction and skmisc which is needed for HVG selection\n",
        "!pip install --quiet 'scanpy[leiden,harmony,skmisc]'"
      ],
      "metadata": {
        "id": "RRm6sIQWYjqw"
      },
      "execution_count": 38,
      "outputs": []
    },
    {
      "cell_type": "markdown",
      "source": [
        "The following cell downloads the original data and creates the data files `/content/blood_RNA_raw_counts.h5ad` and `/content/blood_RNA_raw_counts_SCG12.h5ad` that we will use for our analysis."
      ],
      "metadata": {
        "id": "xDeW27zhawEq"
      }
    },
    {
      "cell_type": "code",
      "execution_count": 39,
      "metadata": {
        "id": "X6XPqbwolXhs",
        "cellView": "form"
      },
      "outputs": [],
      "source": [
        "# @title Download Data and create the **raw data** files that we will use for our analysis\n",
        "################# THIS IS NOT PART OF THE WORKFLOW ##################\n",
        "import os\n",
        "\n",
        "if not os.path.exists('/content/blood_RNA.h5ad'):\n",
        "  # downloading the data from the paper takes ~1min\n",
        "  !wget -O blood_RNA.h5ad --header=\"User-Agent: Mozilla/5.0\" \"https://figshare.com/ndownloader/files/38849385?private_link=8aaa376913da23ae0def\" > /dev/null 2>&1\n",
        "\n",
        "\n",
        "if not os.path.exists('/content/blood_RNA_raw_counts.h5ad'):\n",
        "  # -- create the raw data by removing all processed data information from the author's file\n",
        "  import scanpy as sc\n",
        "  # load the single cell RNA seq dataset from the h5ad file\n",
        "  adata_processed = sc.read_h5ad('blood_RNA.h5ad') # AnnData object\n",
        "  X_raw_counts = adata_processed.layers['counts']\n",
        "  # the var dataframe\n",
        "  raw_var_df = adata_processed.raw.var.copy()\n",
        "  for i in raw_var_df.columns:\n",
        "    del raw_var_df[i]\n",
        "  raw_var_df['gene_name'] = raw_var_df.index\n",
        "  # the obs dataframe\n",
        "  raw_obs_df = adata_processed.obs[['LIBRARY',\t'CoLabs_patient',\t'condition']]\n",
        "  raw_obs_df.columns = ['LIBRARY_ID', 'patient_id', 'condition']\n",
        "  # create the anndata object\n",
        "  adata = sc.AnnData(X = X_raw_counts, var=raw_var_df, obs=raw_obs_df)\n",
        "  adata.write_h5ad('blood_RNA_raw_counts.h5ad')\n",
        "  adata=adata[ adata.obs['LIBRARY_ID'] == 'XAUT1-POOL-SCG12']\n",
        "  adata.write_h5ad('blood_RNA_raw_counts_SCG12.h5ad')\n",
        "  del adata, adata_processed # delete the all data"
      ]
    },
    {
      "cell_type": "markdown",
      "source": [
        "# Single cell RNA seq analysis (single batch)\n",
        "## Let's do a single batch first\n",
        "The `'blood_RNA_raw_counts_SCG12.h5ad'` file only contains the single-cell data from a single sequencing batch (library):\n",
        "\n",
        "LIBRARY_ID: `XAUT1-POOL-SCG12`."
      ],
      "metadata": {
        "id": "EmIVs-jG2daT"
      }
    },
    {
      "cell_type": "code",
      "source": [
        "import pandas as pd\n",
        "import scanpy as sc"
      ],
      "metadata": {
        "id": "68KPM4oF2g-v"
      },
      "execution_count": 40,
      "outputs": []
    },
    {
      "cell_type": "code",
      "source": [
        "### Settings (optional) ###\n",
        "\n",
        "# Show more columns in output\n",
        "pd.set_option('display.max_columns', 50)\n",
        "# Set parameters for the figures // sc.settings.set_figure_params?\n",
        "sc.settings.set_figure_params(dpi=80,fontsize=16, facecolor=\"white\",figsize=(8,6),color_map='viridis')\n",
        "# Suppress all warnings -- not recommended when working on your research projects!\n",
        "import warnings\n",
        "warnings.filterwarnings(\"ignore\")\n",
        "# print out the package versions\n",
        "print('scanpy version:', sc.__version__)\n",
        "print('pandas version:', pd.__version__)"
      ],
      "metadata": {
        "id": "DmFv2nvd2g-v",
        "outputId": "55f65939-9e15-488b-ef84-c6a454dae892",
        "colab": {
          "base_uri": "https://localhost:8080/"
        }
      },
      "execution_count": 41,
      "outputs": [
        {
          "output_type": "stream",
          "name": "stdout",
          "text": [
            "scanpy version: 1.11.4\n",
            "pandas version: 2.2.2\n"
          ]
        }
      ]
    },
    {
      "cell_type": "markdown",
      "source": [
        "## STEP 0: Load the data (raw counts)"
      ],
      "metadata": {
        "id": "rEg8eJGvqfE2"
      }
    },
    {
      "cell_type": "code",
      "source": [
        "###################################################### <- this will mark the functions that will change/update adata\n",
        "# [🔺] load the AnnData object from the h5ad file (blood_RNA_raw_counts_SCG12)\n",
        "\n",
        "\n",
        "adata = sc.read_h5ad('blood_RNA_raw_counts_SCG12.h5ad')\n",
        "\n",
        "\n",
        "\n"
      ],
      "metadata": {
        "id": "iF7wL45HqeSy"
      },
      "execution_count": 42,
      "outputs": []
    },
    {
      "cell_type": "code",
      "source": [
        "# display a summary of AnnData object\n",
        "adata"
      ],
      "metadata": {
        "id": "OkNeJ1sgqeP9",
        "outputId": "89f90654-e69a-4714-b494-14c826783e98",
        "colab": {
          "base_uri": "https://localhost:8080/"
        }
      },
      "execution_count": 43,
      "outputs": [
        {
          "output_type": "execute_result",
          "data": {
            "text/plain": [
              "AnnData object with n_obs × n_vars = 6410 × 22741\n",
              "    obs: 'LIBRARY_ID', 'patient_id', 'condition'\n",
              "    var: 'gene_name'"
            ]
          },
          "metadata": {},
          "execution_count": 43
        }
      ]
    },
    {
      "cell_type": "code",
      "source": [
        "# [🔺] lets explore what is in adata. In the following two cells display the obs and var dataframes\n",
        "\n",
        "\n",
        "\n"
      ],
      "metadata": {
        "id": "Ke0ilCr_qeND"
      },
      "execution_count": null,
      "outputs": []
    },
    {
      "cell_type": "code",
      "source": [
        "# [🔺] obs\n",
        "\n",
        "\n",
        "adata.obs\n"
      ],
      "metadata": {
        "id": "aauGm8RLD2Br",
        "outputId": "1204bbd4-06b0-4b04-91c0-c88509cda4b6",
        "colab": {
          "base_uri": "https://localhost:8080/",
          "height": 419
        }
      },
      "execution_count": 44,
      "outputs": [
        {
          "output_type": "execute_result",
          "data": {
            "text/plain": [
              "                            LIBRARY_ID  patient_id condition\n",
              "AAACCTGAGCTAAACA-1_2  XAUT1-POOL-SCG12   XAUT1-HS7      UCNB\n",
              "AAACCTGAGTCAATAG-1_2  XAUT1-POOL-SCG12   XAUT1-HS2        HC\n",
              "AAACCTGCAATGGAGC-1_2  XAUT1-POOL-SCG12   XAUT1-HS4        HC\n",
              "AAACCTGCAGTAAGAT-1_2  XAUT1-POOL-SCG12   XAUT1-HS4        HC\n",
              "AAACCTGCATTAACCG-1_2  XAUT1-POOL-SCG12   XAUT1-HS3        HC\n",
              "...                                ...         ...       ...\n",
              "TTTGTCAGTTGTACAC-1_2  XAUT1-POOL-SCG12   XAUT1-HS3        HC\n",
              "TTTGTCATCCAAGCCG-1_2  XAUT1-POOL-SCG12  XAUT1-HS12       UCV\n",
              "TTTGTCATCCACGTGG-1_2  XAUT1-POOL-SCG12   XAUT1-HS6      UCNB\n",
              "TTTGTCATCCGATATG-1_2  XAUT1-POOL-SCG12   XAUT1-HS6      UCNB\n",
              "TTTGTCATCTACTCAT-1_2  XAUT1-POOL-SCG12   XAUT1-HS6      UCNB\n",
              "\n",
              "[6410 rows x 3 columns]"
            ],
            "text/html": [
              "\n",
              "  <div id=\"df-0e4cb8f9-2486-470f-b013-d90ec9ed3558\" class=\"colab-df-container\">\n",
              "    <div>\n",
              "<style scoped>\n",
              "    .dataframe tbody tr th:only-of-type {\n",
              "        vertical-align: middle;\n",
              "    }\n",
              "\n",
              "    .dataframe tbody tr th {\n",
              "        vertical-align: top;\n",
              "    }\n",
              "\n",
              "    .dataframe thead th {\n",
              "        text-align: right;\n",
              "    }\n",
              "</style>\n",
              "<table border=\"1\" class=\"dataframe\">\n",
              "  <thead>\n",
              "    <tr style=\"text-align: right;\">\n",
              "      <th></th>\n",
              "      <th>LIBRARY_ID</th>\n",
              "      <th>patient_id</th>\n",
              "      <th>condition</th>\n",
              "    </tr>\n",
              "  </thead>\n",
              "  <tbody>\n",
              "    <tr>\n",
              "      <th>AAACCTGAGCTAAACA-1_2</th>\n",
              "      <td>XAUT1-POOL-SCG12</td>\n",
              "      <td>XAUT1-HS7</td>\n",
              "      <td>UCNB</td>\n",
              "    </tr>\n",
              "    <tr>\n",
              "      <th>AAACCTGAGTCAATAG-1_2</th>\n",
              "      <td>XAUT1-POOL-SCG12</td>\n",
              "      <td>XAUT1-HS2</td>\n",
              "      <td>HC</td>\n",
              "    </tr>\n",
              "    <tr>\n",
              "      <th>AAACCTGCAATGGAGC-1_2</th>\n",
              "      <td>XAUT1-POOL-SCG12</td>\n",
              "      <td>XAUT1-HS4</td>\n",
              "      <td>HC</td>\n",
              "    </tr>\n",
              "    <tr>\n",
              "      <th>AAACCTGCAGTAAGAT-1_2</th>\n",
              "      <td>XAUT1-POOL-SCG12</td>\n",
              "      <td>XAUT1-HS4</td>\n",
              "      <td>HC</td>\n",
              "    </tr>\n",
              "    <tr>\n",
              "      <th>AAACCTGCATTAACCG-1_2</th>\n",
              "      <td>XAUT1-POOL-SCG12</td>\n",
              "      <td>XAUT1-HS3</td>\n",
              "      <td>HC</td>\n",
              "    </tr>\n",
              "    <tr>\n",
              "      <th>...</th>\n",
              "      <td>...</td>\n",
              "      <td>...</td>\n",
              "      <td>...</td>\n",
              "    </tr>\n",
              "    <tr>\n",
              "      <th>TTTGTCAGTTGTACAC-1_2</th>\n",
              "      <td>XAUT1-POOL-SCG12</td>\n",
              "      <td>XAUT1-HS3</td>\n",
              "      <td>HC</td>\n",
              "    </tr>\n",
              "    <tr>\n",
              "      <th>TTTGTCATCCAAGCCG-1_2</th>\n",
              "      <td>XAUT1-POOL-SCG12</td>\n",
              "      <td>XAUT1-HS12</td>\n",
              "      <td>UCV</td>\n",
              "    </tr>\n",
              "    <tr>\n",
              "      <th>TTTGTCATCCACGTGG-1_2</th>\n",
              "      <td>XAUT1-POOL-SCG12</td>\n",
              "      <td>XAUT1-HS6</td>\n",
              "      <td>UCNB</td>\n",
              "    </tr>\n",
              "    <tr>\n",
              "      <th>TTTGTCATCCGATATG-1_2</th>\n",
              "      <td>XAUT1-POOL-SCG12</td>\n",
              "      <td>XAUT1-HS6</td>\n",
              "      <td>UCNB</td>\n",
              "    </tr>\n",
              "    <tr>\n",
              "      <th>TTTGTCATCTACTCAT-1_2</th>\n",
              "      <td>XAUT1-POOL-SCG12</td>\n",
              "      <td>XAUT1-HS6</td>\n",
              "      <td>UCNB</td>\n",
              "    </tr>\n",
              "  </tbody>\n",
              "</table>\n",
              "<p>6410 rows × 3 columns</p>\n",
              "</div>\n",
              "    <div class=\"colab-df-buttons\">\n",
              "\n",
              "  <div class=\"colab-df-container\">\n",
              "    <button class=\"colab-df-convert\" onclick=\"convertToInteractive('df-0e4cb8f9-2486-470f-b013-d90ec9ed3558')\"\n",
              "            title=\"Convert this dataframe to an interactive table.\"\n",
              "            style=\"display:none;\">\n",
              "\n",
              "  <svg xmlns=\"http://www.w3.org/2000/svg\" height=\"24px\" viewBox=\"0 -960 960 960\">\n",
              "    <path d=\"M120-120v-720h720v720H120Zm60-500h600v-160H180v160Zm220 220h160v-160H400v160Zm0 220h160v-160H400v160ZM180-400h160v-160H180v160Zm440 0h160v-160H620v160ZM180-180h160v-160H180v160Zm440 0h160v-160H620v160Z\"/>\n",
              "  </svg>\n",
              "    </button>\n",
              "\n",
              "  <style>\n",
              "    .colab-df-container {\n",
              "      display:flex;\n",
              "      gap: 12px;\n",
              "    }\n",
              "\n",
              "    .colab-df-convert {\n",
              "      background-color: #E8F0FE;\n",
              "      border: none;\n",
              "      border-radius: 50%;\n",
              "      cursor: pointer;\n",
              "      display: none;\n",
              "      fill: #1967D2;\n",
              "      height: 32px;\n",
              "      padding: 0 0 0 0;\n",
              "      width: 32px;\n",
              "    }\n",
              "\n",
              "    .colab-df-convert:hover {\n",
              "      background-color: #E2EBFA;\n",
              "      box-shadow: 0px 1px 2px rgba(60, 64, 67, 0.3), 0px 1px 3px 1px rgba(60, 64, 67, 0.15);\n",
              "      fill: #174EA6;\n",
              "    }\n",
              "\n",
              "    .colab-df-buttons div {\n",
              "      margin-bottom: 4px;\n",
              "    }\n",
              "\n",
              "    [theme=dark] .colab-df-convert {\n",
              "      background-color: #3B4455;\n",
              "      fill: #D2E3FC;\n",
              "    }\n",
              "\n",
              "    [theme=dark] .colab-df-convert:hover {\n",
              "      background-color: #434B5C;\n",
              "      box-shadow: 0px 1px 3px 1px rgba(0, 0, 0, 0.15);\n",
              "      filter: drop-shadow(0px 1px 2px rgba(0, 0, 0, 0.3));\n",
              "      fill: #FFFFFF;\n",
              "    }\n",
              "  </style>\n",
              "\n",
              "    <script>\n",
              "      const buttonEl =\n",
              "        document.querySelector('#df-0e4cb8f9-2486-470f-b013-d90ec9ed3558 button.colab-df-convert');\n",
              "      buttonEl.style.display =\n",
              "        google.colab.kernel.accessAllowed ? 'block' : 'none';\n",
              "\n",
              "      async function convertToInteractive(key) {\n",
              "        const element = document.querySelector('#df-0e4cb8f9-2486-470f-b013-d90ec9ed3558');\n",
              "        const dataTable =\n",
              "          await google.colab.kernel.invokeFunction('convertToInteractive',\n",
              "                                                    [key], {});\n",
              "        if (!dataTable) return;\n",
              "\n",
              "        const docLinkHtml = 'Like what you see? Visit the ' +\n",
              "          '<a target=\"_blank\" href=https://colab.research.google.com/notebooks/data_table.ipynb>data table notebook</a>'\n",
              "          + ' to learn more about interactive tables.';\n",
              "        element.innerHTML = '';\n",
              "        dataTable['output_type'] = 'display_data';\n",
              "        await google.colab.output.renderOutput(dataTable, element);\n",
              "        const docLink = document.createElement('div');\n",
              "        docLink.innerHTML = docLinkHtml;\n",
              "        element.appendChild(docLink);\n",
              "      }\n",
              "    </script>\n",
              "  </div>\n",
              "\n",
              "\n",
              "    <div id=\"df-5e944d38-a85e-46c2-975a-fcba893e5c2a\">\n",
              "      <button class=\"colab-df-quickchart\" onclick=\"quickchart('df-5e944d38-a85e-46c2-975a-fcba893e5c2a')\"\n",
              "                title=\"Suggest charts\"\n",
              "                style=\"display:none;\">\n",
              "\n",
              "<svg xmlns=\"http://www.w3.org/2000/svg\" height=\"24px\"viewBox=\"0 0 24 24\"\n",
              "     width=\"24px\">\n",
              "    <g>\n",
              "        <path d=\"M19 3H5c-1.1 0-2 .9-2 2v14c0 1.1.9 2 2 2h14c1.1 0 2-.9 2-2V5c0-1.1-.9-2-2-2zM9 17H7v-7h2v7zm4 0h-2V7h2v10zm4 0h-2v-4h2v4z\"/>\n",
              "    </g>\n",
              "</svg>\n",
              "      </button>\n",
              "\n",
              "<style>\n",
              "  .colab-df-quickchart {\n",
              "      --bg-color: #E8F0FE;\n",
              "      --fill-color: #1967D2;\n",
              "      --hover-bg-color: #E2EBFA;\n",
              "      --hover-fill-color: #174EA6;\n",
              "      --disabled-fill-color: #AAA;\n",
              "      --disabled-bg-color: #DDD;\n",
              "  }\n",
              "\n",
              "  [theme=dark] .colab-df-quickchart {\n",
              "      --bg-color: #3B4455;\n",
              "      --fill-color: #D2E3FC;\n",
              "      --hover-bg-color: #434B5C;\n",
              "      --hover-fill-color: #FFFFFF;\n",
              "      --disabled-bg-color: #3B4455;\n",
              "      --disabled-fill-color: #666;\n",
              "  }\n",
              "\n",
              "  .colab-df-quickchart {\n",
              "    background-color: var(--bg-color);\n",
              "    border: none;\n",
              "    border-radius: 50%;\n",
              "    cursor: pointer;\n",
              "    display: none;\n",
              "    fill: var(--fill-color);\n",
              "    height: 32px;\n",
              "    padding: 0;\n",
              "    width: 32px;\n",
              "  }\n",
              "\n",
              "  .colab-df-quickchart:hover {\n",
              "    background-color: var(--hover-bg-color);\n",
              "    box-shadow: 0 1px 2px rgba(60, 64, 67, 0.3), 0 1px 3px 1px rgba(60, 64, 67, 0.15);\n",
              "    fill: var(--button-hover-fill-color);\n",
              "  }\n",
              "\n",
              "  .colab-df-quickchart-complete:disabled,\n",
              "  .colab-df-quickchart-complete:disabled:hover {\n",
              "    background-color: var(--disabled-bg-color);\n",
              "    fill: var(--disabled-fill-color);\n",
              "    box-shadow: none;\n",
              "  }\n",
              "\n",
              "  .colab-df-spinner {\n",
              "    border: 2px solid var(--fill-color);\n",
              "    border-color: transparent;\n",
              "    border-bottom-color: var(--fill-color);\n",
              "    animation:\n",
              "      spin 1s steps(1) infinite;\n",
              "  }\n",
              "\n",
              "  @keyframes spin {\n",
              "    0% {\n",
              "      border-color: transparent;\n",
              "      border-bottom-color: var(--fill-color);\n",
              "      border-left-color: var(--fill-color);\n",
              "    }\n",
              "    20% {\n",
              "      border-color: transparent;\n",
              "      border-left-color: var(--fill-color);\n",
              "      border-top-color: var(--fill-color);\n",
              "    }\n",
              "    30% {\n",
              "      border-color: transparent;\n",
              "      border-left-color: var(--fill-color);\n",
              "      border-top-color: var(--fill-color);\n",
              "      border-right-color: var(--fill-color);\n",
              "    }\n",
              "    40% {\n",
              "      border-color: transparent;\n",
              "      border-right-color: var(--fill-color);\n",
              "      border-top-color: var(--fill-color);\n",
              "    }\n",
              "    60% {\n",
              "      border-color: transparent;\n",
              "      border-right-color: var(--fill-color);\n",
              "    }\n",
              "    80% {\n",
              "      border-color: transparent;\n",
              "      border-right-color: var(--fill-color);\n",
              "      border-bottom-color: var(--fill-color);\n",
              "    }\n",
              "    90% {\n",
              "      border-color: transparent;\n",
              "      border-bottom-color: var(--fill-color);\n",
              "    }\n",
              "  }\n",
              "</style>\n",
              "\n",
              "      <script>\n",
              "        async function quickchart(key) {\n",
              "          const quickchartButtonEl =\n",
              "            document.querySelector('#' + key + ' button');\n",
              "          quickchartButtonEl.disabled = true;  // To prevent multiple clicks.\n",
              "          quickchartButtonEl.classList.add('colab-df-spinner');\n",
              "          try {\n",
              "            const charts = await google.colab.kernel.invokeFunction(\n",
              "                'suggestCharts', [key], {});\n",
              "          } catch (error) {\n",
              "            console.error('Error during call to suggestCharts:', error);\n",
              "          }\n",
              "          quickchartButtonEl.classList.remove('colab-df-spinner');\n",
              "          quickchartButtonEl.classList.add('colab-df-quickchart-complete');\n",
              "        }\n",
              "        (() => {\n",
              "          let quickchartButtonEl =\n",
              "            document.querySelector('#df-5e944d38-a85e-46c2-975a-fcba893e5c2a button');\n",
              "          quickchartButtonEl.style.display =\n",
              "            google.colab.kernel.accessAllowed ? 'block' : 'none';\n",
              "        })();\n",
              "      </script>\n",
              "    </div>\n",
              "\n",
              "    </div>\n",
              "  </div>\n"
            ],
            "application/vnd.google.colaboratory.intrinsic+json": {
              "type": "dataframe",
              "summary": "{\n  \"name\": \"adata\",\n  \"rows\": 6410,\n  \"fields\": [\n    {\n      \"column\": \"LIBRARY_ID\",\n      \"properties\": {\n        \"dtype\": \"category\",\n        \"num_unique_values\": 1,\n        \"samples\": [\n          \"XAUT1-POOL-SCG12\"\n        ],\n        \"semantic_type\": \"\",\n        \"description\": \"\"\n      }\n    },\n    {\n      \"column\": \"patient_id\",\n      \"properties\": {\n        \"dtype\": \"category\",\n        \"num_unique_values\": 11,\n        \"samples\": [\n          \"XAUT1-HS6\"\n        ],\n        \"semantic_type\": \"\",\n        \"description\": \"\"\n      }\n    },\n    {\n      \"column\": \"condition\",\n      \"properties\": {\n        \"dtype\": \"category\",\n        \"num_unique_values\": 3,\n        \"samples\": [\n          \"UCNB\"\n        ],\n        \"semantic_type\": \"\",\n        \"description\": \"\"\n      }\n    }\n  ]\n}"
            }
          },
          "metadata": {},
          "execution_count": 44
        }
      ]
    },
    {
      "cell_type": "code",
      "source": [
        "# [🔺] var\n",
        "\n",
        "adata.var\n",
        "\n"
      ],
      "metadata": {
        "id": "a71EnwTtD1-I",
        "outputId": "db504568-c287-484f-a606-8ec1e691e7fe",
        "colab": {
          "base_uri": "https://localhost:8080/",
          "height": 419
        }
      },
      "execution_count": 45,
      "outputs": [
        {
          "output_type": "execute_result",
          "data": {
            "text/plain": [
              "                   gene_name\n",
              "RP11-34P13.7    RP11-34P13.7\n",
              "RP11-34P13.15  RP11-34P13.15\n",
              "RP11-34P13.16  RP11-34P13.16\n",
              "RP11-34P13.13  RP11-34P13.13\n",
              "FO538757.2        FO538757.2\n",
              "...                      ...\n",
              "RSPH1                  RSPH1\n",
              "IMMTP1                IMMTP1\n",
              "LINC00315          LINC00315\n",
              "AL133493.2        AL133493.2\n",
              "FTCD                    FTCD\n",
              "\n",
              "[22741 rows x 1 columns]"
            ],
            "text/html": [
              "\n",
              "  <div id=\"df-fb3935f1-3d43-446c-a5b1-aa6fff75c977\" class=\"colab-df-container\">\n",
              "    <div>\n",
              "<style scoped>\n",
              "    .dataframe tbody tr th:only-of-type {\n",
              "        vertical-align: middle;\n",
              "    }\n",
              "\n",
              "    .dataframe tbody tr th {\n",
              "        vertical-align: top;\n",
              "    }\n",
              "\n",
              "    .dataframe thead th {\n",
              "        text-align: right;\n",
              "    }\n",
              "</style>\n",
              "<table border=\"1\" class=\"dataframe\">\n",
              "  <thead>\n",
              "    <tr style=\"text-align: right;\">\n",
              "      <th></th>\n",
              "      <th>gene_name</th>\n",
              "    </tr>\n",
              "  </thead>\n",
              "  <tbody>\n",
              "    <tr>\n",
              "      <th>RP11-34P13.7</th>\n",
              "      <td>RP11-34P13.7</td>\n",
              "    </tr>\n",
              "    <tr>\n",
              "      <th>RP11-34P13.15</th>\n",
              "      <td>RP11-34P13.15</td>\n",
              "    </tr>\n",
              "    <tr>\n",
              "      <th>RP11-34P13.16</th>\n",
              "      <td>RP11-34P13.16</td>\n",
              "    </tr>\n",
              "    <tr>\n",
              "      <th>RP11-34P13.13</th>\n",
              "      <td>RP11-34P13.13</td>\n",
              "    </tr>\n",
              "    <tr>\n",
              "      <th>FO538757.2</th>\n",
              "      <td>FO538757.2</td>\n",
              "    </tr>\n",
              "    <tr>\n",
              "      <th>...</th>\n",
              "      <td>...</td>\n",
              "    </tr>\n",
              "    <tr>\n",
              "      <th>RSPH1</th>\n",
              "      <td>RSPH1</td>\n",
              "    </tr>\n",
              "    <tr>\n",
              "      <th>IMMTP1</th>\n",
              "      <td>IMMTP1</td>\n",
              "    </tr>\n",
              "    <tr>\n",
              "      <th>LINC00315</th>\n",
              "      <td>LINC00315</td>\n",
              "    </tr>\n",
              "    <tr>\n",
              "      <th>AL133493.2</th>\n",
              "      <td>AL133493.2</td>\n",
              "    </tr>\n",
              "    <tr>\n",
              "      <th>FTCD</th>\n",
              "      <td>FTCD</td>\n",
              "    </tr>\n",
              "  </tbody>\n",
              "</table>\n",
              "<p>22741 rows × 1 columns</p>\n",
              "</div>\n",
              "    <div class=\"colab-df-buttons\">\n",
              "\n",
              "  <div class=\"colab-df-container\">\n",
              "    <button class=\"colab-df-convert\" onclick=\"convertToInteractive('df-fb3935f1-3d43-446c-a5b1-aa6fff75c977')\"\n",
              "            title=\"Convert this dataframe to an interactive table.\"\n",
              "            style=\"display:none;\">\n",
              "\n",
              "  <svg xmlns=\"http://www.w3.org/2000/svg\" height=\"24px\" viewBox=\"0 -960 960 960\">\n",
              "    <path d=\"M120-120v-720h720v720H120Zm60-500h600v-160H180v160Zm220 220h160v-160H400v160Zm0 220h160v-160H400v160ZM180-400h160v-160H180v160Zm440 0h160v-160H620v160ZM180-180h160v-160H180v160Zm440 0h160v-160H620v160Z\"/>\n",
              "  </svg>\n",
              "    </button>\n",
              "\n",
              "  <style>\n",
              "    .colab-df-container {\n",
              "      display:flex;\n",
              "      gap: 12px;\n",
              "    }\n",
              "\n",
              "    .colab-df-convert {\n",
              "      background-color: #E8F0FE;\n",
              "      border: none;\n",
              "      border-radius: 50%;\n",
              "      cursor: pointer;\n",
              "      display: none;\n",
              "      fill: #1967D2;\n",
              "      height: 32px;\n",
              "      padding: 0 0 0 0;\n",
              "      width: 32px;\n",
              "    }\n",
              "\n",
              "    .colab-df-convert:hover {\n",
              "      background-color: #E2EBFA;\n",
              "      box-shadow: 0px 1px 2px rgba(60, 64, 67, 0.3), 0px 1px 3px 1px rgba(60, 64, 67, 0.15);\n",
              "      fill: #174EA6;\n",
              "    }\n",
              "\n",
              "    .colab-df-buttons div {\n",
              "      margin-bottom: 4px;\n",
              "    }\n",
              "\n",
              "    [theme=dark] .colab-df-convert {\n",
              "      background-color: #3B4455;\n",
              "      fill: #D2E3FC;\n",
              "    }\n",
              "\n",
              "    [theme=dark] .colab-df-convert:hover {\n",
              "      background-color: #434B5C;\n",
              "      box-shadow: 0px 1px 3px 1px rgba(0, 0, 0, 0.15);\n",
              "      filter: drop-shadow(0px 1px 2px rgba(0, 0, 0, 0.3));\n",
              "      fill: #FFFFFF;\n",
              "    }\n",
              "  </style>\n",
              "\n",
              "    <script>\n",
              "      const buttonEl =\n",
              "        document.querySelector('#df-fb3935f1-3d43-446c-a5b1-aa6fff75c977 button.colab-df-convert');\n",
              "      buttonEl.style.display =\n",
              "        google.colab.kernel.accessAllowed ? 'block' : 'none';\n",
              "\n",
              "      async function convertToInteractive(key) {\n",
              "        const element = document.querySelector('#df-fb3935f1-3d43-446c-a5b1-aa6fff75c977');\n",
              "        const dataTable =\n",
              "          await google.colab.kernel.invokeFunction('convertToInteractive',\n",
              "                                                    [key], {});\n",
              "        if (!dataTable) return;\n",
              "\n",
              "        const docLinkHtml = 'Like what you see? Visit the ' +\n",
              "          '<a target=\"_blank\" href=https://colab.research.google.com/notebooks/data_table.ipynb>data table notebook</a>'\n",
              "          + ' to learn more about interactive tables.';\n",
              "        element.innerHTML = '';\n",
              "        dataTable['output_type'] = 'display_data';\n",
              "        await google.colab.output.renderOutput(dataTable, element);\n",
              "        const docLink = document.createElement('div');\n",
              "        docLink.innerHTML = docLinkHtml;\n",
              "        element.appendChild(docLink);\n",
              "      }\n",
              "    </script>\n",
              "  </div>\n",
              "\n",
              "\n",
              "    <div id=\"df-9a79fd9f-3485-46ae-9ef1-b195db3984a9\">\n",
              "      <button class=\"colab-df-quickchart\" onclick=\"quickchart('df-9a79fd9f-3485-46ae-9ef1-b195db3984a9')\"\n",
              "                title=\"Suggest charts\"\n",
              "                style=\"display:none;\">\n",
              "\n",
              "<svg xmlns=\"http://www.w3.org/2000/svg\" height=\"24px\"viewBox=\"0 0 24 24\"\n",
              "     width=\"24px\">\n",
              "    <g>\n",
              "        <path d=\"M19 3H5c-1.1 0-2 .9-2 2v14c0 1.1.9 2 2 2h14c1.1 0 2-.9 2-2V5c0-1.1-.9-2-2-2zM9 17H7v-7h2v7zm4 0h-2V7h2v10zm4 0h-2v-4h2v4z\"/>\n",
              "    </g>\n",
              "</svg>\n",
              "      </button>\n",
              "\n",
              "<style>\n",
              "  .colab-df-quickchart {\n",
              "      --bg-color: #E8F0FE;\n",
              "      --fill-color: #1967D2;\n",
              "      --hover-bg-color: #E2EBFA;\n",
              "      --hover-fill-color: #174EA6;\n",
              "      --disabled-fill-color: #AAA;\n",
              "      --disabled-bg-color: #DDD;\n",
              "  }\n",
              "\n",
              "  [theme=dark] .colab-df-quickchart {\n",
              "      --bg-color: #3B4455;\n",
              "      --fill-color: #D2E3FC;\n",
              "      --hover-bg-color: #434B5C;\n",
              "      --hover-fill-color: #FFFFFF;\n",
              "      --disabled-bg-color: #3B4455;\n",
              "      --disabled-fill-color: #666;\n",
              "  }\n",
              "\n",
              "  .colab-df-quickchart {\n",
              "    background-color: var(--bg-color);\n",
              "    border: none;\n",
              "    border-radius: 50%;\n",
              "    cursor: pointer;\n",
              "    display: none;\n",
              "    fill: var(--fill-color);\n",
              "    height: 32px;\n",
              "    padding: 0;\n",
              "    width: 32px;\n",
              "  }\n",
              "\n",
              "  .colab-df-quickchart:hover {\n",
              "    background-color: var(--hover-bg-color);\n",
              "    box-shadow: 0 1px 2px rgba(60, 64, 67, 0.3), 0 1px 3px 1px rgba(60, 64, 67, 0.15);\n",
              "    fill: var(--button-hover-fill-color);\n",
              "  }\n",
              "\n",
              "  .colab-df-quickchart-complete:disabled,\n",
              "  .colab-df-quickchart-complete:disabled:hover {\n",
              "    background-color: var(--disabled-bg-color);\n",
              "    fill: var(--disabled-fill-color);\n",
              "    box-shadow: none;\n",
              "  }\n",
              "\n",
              "  .colab-df-spinner {\n",
              "    border: 2px solid var(--fill-color);\n",
              "    border-color: transparent;\n",
              "    border-bottom-color: var(--fill-color);\n",
              "    animation:\n",
              "      spin 1s steps(1) infinite;\n",
              "  }\n",
              "\n",
              "  @keyframes spin {\n",
              "    0% {\n",
              "      border-color: transparent;\n",
              "      border-bottom-color: var(--fill-color);\n",
              "      border-left-color: var(--fill-color);\n",
              "    }\n",
              "    20% {\n",
              "      border-color: transparent;\n",
              "      border-left-color: var(--fill-color);\n",
              "      border-top-color: var(--fill-color);\n",
              "    }\n",
              "    30% {\n",
              "      border-color: transparent;\n",
              "      border-left-color: var(--fill-color);\n",
              "      border-top-color: var(--fill-color);\n",
              "      border-right-color: var(--fill-color);\n",
              "    }\n",
              "    40% {\n",
              "      border-color: transparent;\n",
              "      border-right-color: var(--fill-color);\n",
              "      border-top-color: var(--fill-color);\n",
              "    }\n",
              "    60% {\n",
              "      border-color: transparent;\n",
              "      border-right-color: var(--fill-color);\n",
              "    }\n",
              "    80% {\n",
              "      border-color: transparent;\n",
              "      border-right-color: var(--fill-color);\n",
              "      border-bottom-color: var(--fill-color);\n",
              "    }\n",
              "    90% {\n",
              "      border-color: transparent;\n",
              "      border-bottom-color: var(--fill-color);\n",
              "    }\n",
              "  }\n",
              "</style>\n",
              "\n",
              "      <script>\n",
              "        async function quickchart(key) {\n",
              "          const quickchartButtonEl =\n",
              "            document.querySelector('#' + key + ' button');\n",
              "          quickchartButtonEl.disabled = true;  // To prevent multiple clicks.\n",
              "          quickchartButtonEl.classList.add('colab-df-spinner');\n",
              "          try {\n",
              "            const charts = await google.colab.kernel.invokeFunction(\n",
              "                'suggestCharts', [key], {});\n",
              "          } catch (error) {\n",
              "            console.error('Error during call to suggestCharts:', error);\n",
              "          }\n",
              "          quickchartButtonEl.classList.remove('colab-df-spinner');\n",
              "          quickchartButtonEl.classList.add('colab-df-quickchart-complete');\n",
              "        }\n",
              "        (() => {\n",
              "          let quickchartButtonEl =\n",
              "            document.querySelector('#df-9a79fd9f-3485-46ae-9ef1-b195db3984a9 button');\n",
              "          quickchartButtonEl.style.display =\n",
              "            google.colab.kernel.accessAllowed ? 'block' : 'none';\n",
              "        })();\n",
              "      </script>\n",
              "    </div>\n",
              "\n",
              "    </div>\n",
              "  </div>\n"
            ],
            "application/vnd.google.colaboratory.intrinsic+json": {
              "type": "dataframe",
              "summary": "{\n  \"name\": \"adata\",\n  \"rows\": 22741,\n  \"fields\": [\n    {\n      \"column\": \"gene_name\",\n      \"properties\": {\n        \"dtype\": \"string\",\n        \"num_unique_values\": 22741,\n        \"samples\": [\n          \"SHROOM1\",\n          \"PRRC2C\",\n          \"AC018804.6\"\n        ],\n        \"semantic_type\": \"\",\n        \"description\": \"\"\n      }\n    }\n  ]\n}"
            }
          },
          "metadata": {},
          "execution_count": 45
        }
      ]
    },
    {
      "cell_type": "code",
      "source": [
        "# adata.var_names stores the gene names. It is the same as the index of the var dataframe:\n",
        "adata.var_names"
      ],
      "metadata": {
        "id": "EG8VDw2yD3b7",
        "outputId": "00b04d15-7afc-42b3-daf6-b7452af6d0e7",
        "colab": {
          "base_uri": "https://localhost:8080/"
        }
      },
      "execution_count": 46,
      "outputs": [
        {
          "output_type": "execute_result",
          "data": {
            "text/plain": [
              "Index(['RP11-34P13.7', 'RP11-34P13.15', 'RP11-34P13.16', 'RP11-34P13.13',\n",
              "       'FO538757.2', 'FO538757.1', 'AP006222.2', 'RP4-669L17.10',\n",
              "       'RP4-669L17.8', 'RP5-857K21.4',\n",
              "       ...\n",
              "       'AJ006998.2', 'UBE3AP2', 'AP000569.9', 'AP000320.6', 'AP001619.2',\n",
              "       'RSPH1', 'IMMTP1', 'LINC00315', 'AL133493.2', 'FTCD'],\n",
              "      dtype='object', length=22741)"
            ]
          },
          "metadata": {},
          "execution_count": 46
        }
      ]
    },
    {
      "cell_type": "code",
      "source": [
        "# You can also directly access adata.X\n",
        "adata.X"
      ],
      "metadata": {
        "id": "Qw7ZlJwtvwjn",
        "outputId": "bac9776a-5f1c-4098-d262-c506bcdb14bf",
        "colab": {
          "base_uri": "https://localhost:8080/"
        }
      },
      "execution_count": 47,
      "outputs": [
        {
          "output_type": "execute_result",
          "data": {
            "text/plain": [
              "<Compressed Sparse Row sparse matrix of dtype 'float64'\n",
              "\twith 5758880 stored elements and shape (6410, 22741)>"
            ]
          },
          "metadata": {},
          "execution_count": 47
        }
      ]
    },
    {
      "cell_type": "markdown",
      "source": [
        "## STEP 1: Quality control"
      ],
      "metadata": {
        "id": "oPyg9RPtvn_c"
      }
    },
    {
      "cell_type": "code",
      "source": [
        "# mitochondrial gene names start with \"MT-\" for human and \"Mt-\" for mouse\n",
        "# explain what the following command does (Hint: what is adata.var_names? what does the .str.startstwith() function do?)\n",
        "adata.var_names.str.startswith(\"MT-\")"
      ],
      "metadata": {
        "id": "Q4Ox8tpx1RM2",
        "outputId": "e88b1891-85ac-47b2-8eaa-fd8edee28a3b",
        "colab": {
          "base_uri": "https://localhost:8080/"
        }
      },
      "execution_count": 48,
      "outputs": [
        {
          "output_type": "execute_result",
          "data": {
            "text/plain": [
              "array([False, False, False, ..., False, False, False])"
            ]
          },
          "metadata": {},
          "execution_count": 48
        }
      ]
    },
    {
      "cell_type": "code",
      "source": [
        "######################################################\n",
        "# [🔺] create a new column in adata.var dataframe that indicates if a gene is mitochondrial or not (True if it is / False otherwise)\n",
        "# choose an informative name for the new column : )\n",
        "\n",
        "adata.var['is_mt'] = adata.var_names.str.startswith(\"MT-\")\n",
        "\n",
        "\n",
        "\n",
        "\n",
        "\n"
      ],
      "metadata": {
        "id": "UoyeJ3wYuDnJ"
      },
      "execution_count": 50,
      "outputs": []
    },
    {
      "cell_type": "code",
      "source": [
        "# verify that the column was added (you can just display the relevant dataframe)\n",
        "adata.var.head()"
      ],
      "metadata": {
        "id": "XTW20VIYxg4b",
        "outputId": "7f9b27d4-b4ee-484b-b04d-e09822e4e44d",
        "colab": {
          "base_uri": "https://localhost:8080/",
          "height": 204
        }
      },
      "execution_count": 51,
      "outputs": [
        {
          "output_type": "execute_result",
          "data": {
            "text/plain": [
              "                   gene_name  is_mt\n",
              "RP11-34P13.7    RP11-34P13.7  False\n",
              "RP11-34P13.15  RP11-34P13.15  False\n",
              "RP11-34P13.16  RP11-34P13.16  False\n",
              "RP11-34P13.13  RP11-34P13.13  False\n",
              "FO538757.2        FO538757.2  False"
            ],
            "text/html": [
              "\n",
              "  <div id=\"df-ce6a7f19-a0fc-4a7d-8b3d-e2c9dbd559a1\" class=\"colab-df-container\">\n",
              "    <div>\n",
              "<style scoped>\n",
              "    .dataframe tbody tr th:only-of-type {\n",
              "        vertical-align: middle;\n",
              "    }\n",
              "\n",
              "    .dataframe tbody tr th {\n",
              "        vertical-align: top;\n",
              "    }\n",
              "\n",
              "    .dataframe thead th {\n",
              "        text-align: right;\n",
              "    }\n",
              "</style>\n",
              "<table border=\"1\" class=\"dataframe\">\n",
              "  <thead>\n",
              "    <tr style=\"text-align: right;\">\n",
              "      <th></th>\n",
              "      <th>gene_name</th>\n",
              "      <th>is_mt</th>\n",
              "    </tr>\n",
              "  </thead>\n",
              "  <tbody>\n",
              "    <tr>\n",
              "      <th>RP11-34P13.7</th>\n",
              "      <td>RP11-34P13.7</td>\n",
              "      <td>False</td>\n",
              "    </tr>\n",
              "    <tr>\n",
              "      <th>RP11-34P13.15</th>\n",
              "      <td>RP11-34P13.15</td>\n",
              "      <td>False</td>\n",
              "    </tr>\n",
              "    <tr>\n",
              "      <th>RP11-34P13.16</th>\n",
              "      <td>RP11-34P13.16</td>\n",
              "      <td>False</td>\n",
              "    </tr>\n",
              "    <tr>\n",
              "      <th>RP11-34P13.13</th>\n",
              "      <td>RP11-34P13.13</td>\n",
              "      <td>False</td>\n",
              "    </tr>\n",
              "    <tr>\n",
              "      <th>FO538757.2</th>\n",
              "      <td>FO538757.2</td>\n",
              "      <td>False</td>\n",
              "    </tr>\n",
              "  </tbody>\n",
              "</table>\n",
              "</div>\n",
              "    <div class=\"colab-df-buttons\">\n",
              "\n",
              "  <div class=\"colab-df-container\">\n",
              "    <button class=\"colab-df-convert\" onclick=\"convertToInteractive('df-ce6a7f19-a0fc-4a7d-8b3d-e2c9dbd559a1')\"\n",
              "            title=\"Convert this dataframe to an interactive table.\"\n",
              "            style=\"display:none;\">\n",
              "\n",
              "  <svg xmlns=\"http://www.w3.org/2000/svg\" height=\"24px\" viewBox=\"0 -960 960 960\">\n",
              "    <path d=\"M120-120v-720h720v720H120Zm60-500h600v-160H180v160Zm220 220h160v-160H400v160Zm0 220h160v-160H400v160ZM180-400h160v-160H180v160Zm440 0h160v-160H620v160ZM180-180h160v-160H180v160Zm440 0h160v-160H620v160Z\"/>\n",
              "  </svg>\n",
              "    </button>\n",
              "\n",
              "  <style>\n",
              "    .colab-df-container {\n",
              "      display:flex;\n",
              "      gap: 12px;\n",
              "    }\n",
              "\n",
              "    .colab-df-convert {\n",
              "      background-color: #E8F0FE;\n",
              "      border: none;\n",
              "      border-radius: 50%;\n",
              "      cursor: pointer;\n",
              "      display: none;\n",
              "      fill: #1967D2;\n",
              "      height: 32px;\n",
              "      padding: 0 0 0 0;\n",
              "      width: 32px;\n",
              "    }\n",
              "\n",
              "    .colab-df-convert:hover {\n",
              "      background-color: #E2EBFA;\n",
              "      box-shadow: 0px 1px 2px rgba(60, 64, 67, 0.3), 0px 1px 3px 1px rgba(60, 64, 67, 0.15);\n",
              "      fill: #174EA6;\n",
              "    }\n",
              "\n",
              "    .colab-df-buttons div {\n",
              "      margin-bottom: 4px;\n",
              "    }\n",
              "\n",
              "    [theme=dark] .colab-df-convert {\n",
              "      background-color: #3B4455;\n",
              "      fill: #D2E3FC;\n",
              "    }\n",
              "\n",
              "    [theme=dark] .colab-df-convert:hover {\n",
              "      background-color: #434B5C;\n",
              "      box-shadow: 0px 1px 3px 1px rgba(0, 0, 0, 0.15);\n",
              "      filter: drop-shadow(0px 1px 2px rgba(0, 0, 0, 0.3));\n",
              "      fill: #FFFFFF;\n",
              "    }\n",
              "  </style>\n",
              "\n",
              "    <script>\n",
              "      const buttonEl =\n",
              "        document.querySelector('#df-ce6a7f19-a0fc-4a7d-8b3d-e2c9dbd559a1 button.colab-df-convert');\n",
              "      buttonEl.style.display =\n",
              "        google.colab.kernel.accessAllowed ? 'block' : 'none';\n",
              "\n",
              "      async function convertToInteractive(key) {\n",
              "        const element = document.querySelector('#df-ce6a7f19-a0fc-4a7d-8b3d-e2c9dbd559a1');\n",
              "        const dataTable =\n",
              "          await google.colab.kernel.invokeFunction('convertToInteractive',\n",
              "                                                    [key], {});\n",
              "        if (!dataTable) return;\n",
              "\n",
              "        const docLinkHtml = 'Like what you see? Visit the ' +\n",
              "          '<a target=\"_blank\" href=https://colab.research.google.com/notebooks/data_table.ipynb>data table notebook</a>'\n",
              "          + ' to learn more about interactive tables.';\n",
              "        element.innerHTML = '';\n",
              "        dataTable['output_type'] = 'display_data';\n",
              "        await google.colab.output.renderOutput(dataTable, element);\n",
              "        const docLink = document.createElement('div');\n",
              "        docLink.innerHTML = docLinkHtml;\n",
              "        element.appendChild(docLink);\n",
              "      }\n",
              "    </script>\n",
              "  </div>\n",
              "\n",
              "\n",
              "    <div id=\"df-7eabf6ce-8ef4-45ce-a928-7f1ec1f22cdd\">\n",
              "      <button class=\"colab-df-quickchart\" onclick=\"quickchart('df-7eabf6ce-8ef4-45ce-a928-7f1ec1f22cdd')\"\n",
              "                title=\"Suggest charts\"\n",
              "                style=\"display:none;\">\n",
              "\n",
              "<svg xmlns=\"http://www.w3.org/2000/svg\" height=\"24px\"viewBox=\"0 0 24 24\"\n",
              "     width=\"24px\">\n",
              "    <g>\n",
              "        <path d=\"M19 3H5c-1.1 0-2 .9-2 2v14c0 1.1.9 2 2 2h14c1.1 0 2-.9 2-2V5c0-1.1-.9-2-2-2zM9 17H7v-7h2v7zm4 0h-2V7h2v10zm4 0h-2v-4h2v4z\"/>\n",
              "    </g>\n",
              "</svg>\n",
              "      </button>\n",
              "\n",
              "<style>\n",
              "  .colab-df-quickchart {\n",
              "      --bg-color: #E8F0FE;\n",
              "      --fill-color: #1967D2;\n",
              "      --hover-bg-color: #E2EBFA;\n",
              "      --hover-fill-color: #174EA6;\n",
              "      --disabled-fill-color: #AAA;\n",
              "      --disabled-bg-color: #DDD;\n",
              "  }\n",
              "\n",
              "  [theme=dark] .colab-df-quickchart {\n",
              "      --bg-color: #3B4455;\n",
              "      --fill-color: #D2E3FC;\n",
              "      --hover-bg-color: #434B5C;\n",
              "      --hover-fill-color: #FFFFFF;\n",
              "      --disabled-bg-color: #3B4455;\n",
              "      --disabled-fill-color: #666;\n",
              "  }\n",
              "\n",
              "  .colab-df-quickchart {\n",
              "    background-color: var(--bg-color);\n",
              "    border: none;\n",
              "    border-radius: 50%;\n",
              "    cursor: pointer;\n",
              "    display: none;\n",
              "    fill: var(--fill-color);\n",
              "    height: 32px;\n",
              "    padding: 0;\n",
              "    width: 32px;\n",
              "  }\n",
              "\n",
              "  .colab-df-quickchart:hover {\n",
              "    background-color: var(--hover-bg-color);\n",
              "    box-shadow: 0 1px 2px rgba(60, 64, 67, 0.3), 0 1px 3px 1px rgba(60, 64, 67, 0.15);\n",
              "    fill: var(--button-hover-fill-color);\n",
              "  }\n",
              "\n",
              "  .colab-df-quickchart-complete:disabled,\n",
              "  .colab-df-quickchart-complete:disabled:hover {\n",
              "    background-color: var(--disabled-bg-color);\n",
              "    fill: var(--disabled-fill-color);\n",
              "    box-shadow: none;\n",
              "  }\n",
              "\n",
              "  .colab-df-spinner {\n",
              "    border: 2px solid var(--fill-color);\n",
              "    border-color: transparent;\n",
              "    border-bottom-color: var(--fill-color);\n",
              "    animation:\n",
              "      spin 1s steps(1) infinite;\n",
              "  }\n",
              "\n",
              "  @keyframes spin {\n",
              "    0% {\n",
              "      border-color: transparent;\n",
              "      border-bottom-color: var(--fill-color);\n",
              "      border-left-color: var(--fill-color);\n",
              "    }\n",
              "    20% {\n",
              "      border-color: transparent;\n",
              "      border-left-color: var(--fill-color);\n",
              "      border-top-color: var(--fill-color);\n",
              "    }\n",
              "    30% {\n",
              "      border-color: transparent;\n",
              "      border-left-color: var(--fill-color);\n",
              "      border-top-color: var(--fill-color);\n",
              "      border-right-color: var(--fill-color);\n",
              "    }\n",
              "    40% {\n",
              "      border-color: transparent;\n",
              "      border-right-color: var(--fill-color);\n",
              "      border-top-color: var(--fill-color);\n",
              "    }\n",
              "    60% {\n",
              "      border-color: transparent;\n",
              "      border-right-color: var(--fill-color);\n",
              "    }\n",
              "    80% {\n",
              "      border-color: transparent;\n",
              "      border-right-color: var(--fill-color);\n",
              "      border-bottom-color: var(--fill-color);\n",
              "    }\n",
              "    90% {\n",
              "      border-color: transparent;\n",
              "      border-bottom-color: var(--fill-color);\n",
              "    }\n",
              "  }\n",
              "</style>\n",
              "\n",
              "      <script>\n",
              "        async function quickchart(key) {\n",
              "          const quickchartButtonEl =\n",
              "            document.querySelector('#' + key + ' button');\n",
              "          quickchartButtonEl.disabled = true;  // To prevent multiple clicks.\n",
              "          quickchartButtonEl.classList.add('colab-df-spinner');\n",
              "          try {\n",
              "            const charts = await google.colab.kernel.invokeFunction(\n",
              "                'suggestCharts', [key], {});\n",
              "          } catch (error) {\n",
              "            console.error('Error during call to suggestCharts:', error);\n",
              "          }\n",
              "          quickchartButtonEl.classList.remove('colab-df-spinner');\n",
              "          quickchartButtonEl.classList.add('colab-df-quickchart-complete');\n",
              "        }\n",
              "        (() => {\n",
              "          let quickchartButtonEl =\n",
              "            document.querySelector('#df-7eabf6ce-8ef4-45ce-a928-7f1ec1f22cdd button');\n",
              "          quickchartButtonEl.style.display =\n",
              "            google.colab.kernel.accessAllowed ? 'block' : 'none';\n",
              "        })();\n",
              "      </script>\n",
              "    </div>\n",
              "\n",
              "    </div>\n",
              "  </div>\n"
            ],
            "application/vnd.google.colaboratory.intrinsic+json": {
              "type": "dataframe",
              "summary": "{\n  \"name\": \"adata\",\n  \"rows\": 5,\n  \"fields\": [\n    {\n      \"column\": \"gene_name\",\n      \"properties\": {\n        \"dtype\": \"string\",\n        \"num_unique_values\": 5,\n        \"samples\": [\n          \"RP11-34P13.15\",\n          \"FO538757.2\",\n          \"RP11-34P13.16\"\n        ],\n        \"semantic_type\": \"\",\n        \"description\": \"\"\n      }\n    },\n    {\n      \"column\": \"is_mt\",\n      \"properties\": {\n        \"dtype\": \"boolean\",\n        \"num_unique_values\": 1,\n        \"samples\": [\n          false\n        ],\n        \"semantic_type\": \"\",\n        \"description\": \"\"\n      }\n    }\n  ]\n}"
            }
          },
          "metadata": {},
          "execution_count": 51
        }
      ]
    },
    {
      "cell_type": "code",
      "source": [
        "# [🔺] pandas practice: select the var rows that correspond to mitochondrial genes.\n",
        "# How many mitochondrial genes are in this dataset?\n",
        "# Hint: adata.var is a dataframe and can be sliced as df[ condition based on a logical expression  ]\n",
        "# Hint2: slice the var dataframe where the column you created above is equal to True\n",
        "\n",
        "adata.var['is_mt'] == True\n",
        "\n",
        "\n",
        "\n"
      ],
      "metadata": {
        "id": "lvUG30N0xojy",
        "outputId": "24285400-3a6e-47fc-8047-360ddbdef6db",
        "colab": {
          "base_uri": "https://localhost:8080/",
          "height": 453
        }
      },
      "execution_count": 52,
      "outputs": [
        {
          "output_type": "execute_result",
          "data": {
            "text/plain": [
              "RP11-34P13.7     False\n",
              "RP11-34P13.15    False\n",
              "RP11-34P13.16    False\n",
              "RP11-34P13.13    False\n",
              "FO538757.2       False\n",
              "                 ...  \n",
              "RSPH1            False\n",
              "IMMTP1           False\n",
              "LINC00315        False\n",
              "AL133493.2       False\n",
              "FTCD             False\n",
              "Name: is_mt, Length: 22741, dtype: bool"
            ],
            "text/html": [
              "<div>\n",
              "<style scoped>\n",
              "    .dataframe tbody tr th:only-of-type {\n",
              "        vertical-align: middle;\n",
              "    }\n",
              "\n",
              "    .dataframe tbody tr th {\n",
              "        vertical-align: top;\n",
              "    }\n",
              "\n",
              "    .dataframe thead th {\n",
              "        text-align: right;\n",
              "    }\n",
              "</style>\n",
              "<table border=\"1\" class=\"dataframe\">\n",
              "  <thead>\n",
              "    <tr style=\"text-align: right;\">\n",
              "      <th></th>\n",
              "      <th>is_mt</th>\n",
              "    </tr>\n",
              "  </thead>\n",
              "  <tbody>\n",
              "    <tr>\n",
              "      <th>RP11-34P13.7</th>\n",
              "      <td>False</td>\n",
              "    </tr>\n",
              "    <tr>\n",
              "      <th>RP11-34P13.15</th>\n",
              "      <td>False</td>\n",
              "    </tr>\n",
              "    <tr>\n",
              "      <th>RP11-34P13.16</th>\n",
              "      <td>False</td>\n",
              "    </tr>\n",
              "    <tr>\n",
              "      <th>RP11-34P13.13</th>\n",
              "      <td>False</td>\n",
              "    </tr>\n",
              "    <tr>\n",
              "      <th>FO538757.2</th>\n",
              "      <td>False</td>\n",
              "    </tr>\n",
              "    <tr>\n",
              "      <th>...</th>\n",
              "      <td>...</td>\n",
              "    </tr>\n",
              "    <tr>\n",
              "      <th>RSPH1</th>\n",
              "      <td>False</td>\n",
              "    </tr>\n",
              "    <tr>\n",
              "      <th>IMMTP1</th>\n",
              "      <td>False</td>\n",
              "    </tr>\n",
              "    <tr>\n",
              "      <th>LINC00315</th>\n",
              "      <td>False</td>\n",
              "    </tr>\n",
              "    <tr>\n",
              "      <th>AL133493.2</th>\n",
              "      <td>False</td>\n",
              "    </tr>\n",
              "    <tr>\n",
              "      <th>FTCD</th>\n",
              "      <td>False</td>\n",
              "    </tr>\n",
              "  </tbody>\n",
              "</table>\n",
              "<p>22741 rows × 1 columns</p>\n",
              "</div><br><label><b>dtype:</b> bool</label>"
            ]
          },
          "metadata": {},
          "execution_count": 52
        }
      ]
    },
    {
      "cell_type": "code",
      "source": [
        "# [🔹] for practice you can also add a column that indicates whether a gene is ribosomal\n",
        "# ribosomal genes start with \"RP\" for human, \"Rp\" for mouse\n",
        "\n",
        "\n",
        "\n",
        "\n",
        "\n"
      ],
      "metadata": {
        "id": "Joov_nevuDki"
      },
      "execution_count": null,
      "outputs": []
    },
    {
      "cell_type": "markdown",
      "source": [
        "### Calculate QC metrics"
      ],
      "metadata": {
        "id": "wQh4qd5Ox57_"
      }
    },
    {
      "cell_type": "code",
      "source": [
        "adata # lets remind ourseleves about adata, the following command will add a lot of information"
      ],
      "metadata": {
        "id": "dlyMXNxnzBgg",
        "outputId": "96c40d47-213b-49d7-fa50-0c1b12ac7103",
        "colab": {
          "base_uri": "https://localhost:8080/"
        }
      },
      "execution_count": 53,
      "outputs": [
        {
          "output_type": "execute_result",
          "data": {
            "text/plain": [
              "AnnData object with n_obs × n_vars = 6410 × 22741\n",
              "    obs: 'LIBRARY_ID', 'patient_id', 'condition'\n",
              "    var: 'gene_name', 'is_mt'"
            ]
          },
          "metadata": {},
          "execution_count": 53
        }
      ]
    },
    {
      "cell_type": "code",
      "source": [
        "######################################################\n",
        "# [🔺]use the sc.pp.calculate_qc_metrics() function to calculate qc metrics\n",
        "# replace '????' with the column that indicated mitochondrial genes so that we also compute “% of counts in genes marked as mitochondrial”\n",
        "# inplace=True --> updates the adata dataframe in place (adding all the qc columns)\n",
        "# log1p=True --> calculates log1p tranformed versions (e.g., mean of logarithmized counts)\n",
        "\n",
        "\n",
        "\n",
        "sc.pp.calculate_qc_metrics(adata, qc_vars=['?????'], inplace=True, log1p=True)"
      ],
      "metadata": {
        "id": "EwJL4xumuDej"
      },
      "execution_count": null,
      "outputs": []
    },
    {
      "cell_type": "code",
      "source": [
        "adata"
      ],
      "metadata": {
        "id": "aPbkoVhwyd0l"
      },
      "execution_count": null,
      "outputs": []
    },
    {
      "cell_type": "markdown",
      "source": [
        "### Filter genes"
      ],
      "metadata": {
        "id": "-hHsjVDb3Gpp"
      }
    },
    {
      "cell_type": "code",
      "source": [
        "######################################################\n",
        "# [🔺]filter genes that are expressed in fewer than 5 cells\n",
        "\n",
        "\n",
        "\n",
        "\n",
        "\n",
        "\n",
        "\n"
      ],
      "metadata": {
        "id": "p0lZh6zt1SPi"
      },
      "execution_count": null,
      "outputs": []
    },
    {
      "cell_type": "code",
      "source": [
        "adata # notice that the number of genes decreased"
      ],
      "metadata": {
        "id": "fSkDA-uj27Ib"
      },
      "execution_count": null,
      "outputs": []
    },
    {
      "cell_type": "markdown",
      "source": [
        "### Visualize QC metrics (cells)"
      ],
      "metadata": {
        "id": "aNbzzJVA3Xy0"
      }
    },
    {
      "cell_type": "code",
      "source": [
        "sc.pl.violin(\n",
        "    adata,\n",
        "    keys = [\"log1p_n_genes_by_counts\", \"log1p_total_counts\", \"pct_counts_mt\"],\n",
        "    jitter=0.1,\n",
        "    multi_panel=True,\n",
        "    size=1\n",
        ")"
      ],
      "metadata": {
        "id": "W1JNKn1U3dlu"
      },
      "execution_count": null,
      "outputs": []
    },
    {
      "cell_type": "code",
      "source": [
        "sc.pl.scatter(adata, \"log1p_total_counts\", \"pct_counts_mt\", color=\"log1p_n_genes_by_counts\",size=50)"
      ],
      "metadata": {
        "id": "F7PPyQRg3xKB"
      },
      "execution_count": null,
      "outputs": []
    },
    {
      "cell_type": "markdown",
      "source": [
        "### Filter cells"
      ],
      "metadata": {
        "id": "EDJn1UdK5Mdq"
      }
    },
    {
      "cell_type": "code",
      "source": [
        "# [🔺] pandas practice: How many cells have log1p_total_counts above 8?\n",
        "\n",
        "\n",
        "\n",
        "\n",
        "\n",
        "\n",
        "\n",
        "\n"
      ],
      "metadata": {
        "id": "VtXWg2n2haeW"
      },
      "execution_count": null,
      "outputs": []
    },
    {
      "cell_type": "code",
      "source": [
        "##################################################\n",
        "# [🔺] filter out cells by choosing QC thresholds for 'log1p_total_counts' and 'pct_counts_mt' based on the above plots\n",
        "# ok to be lenient we can revisit this after clustering.\n",
        "# Hint: AnnData can be sliced as a dataframe based on a condition (logical expression). E.g., df[df['age']>20]\n",
        "# for AnnData the condition can be computed based on the obs dataframe: e.g., adata[ obs dataframe column is greater than 5 ]\n",
        "# After slicing adata, don't forget to save the output back to adata: e.g. as we update a df variable df=df[df['age']>20].\n",
        "\n",
        "\n",
        "\n",
        "\n",
        "\n",
        "\n",
        "\n",
        "\n",
        "\n"
      ],
      "metadata": {
        "id": "YhA8nvII4gfu"
      },
      "execution_count": null,
      "outputs": []
    },
    {
      "cell_type": "code",
      "source": [],
      "metadata": {
        "id": "MATRVVlQIUWR"
      },
      "execution_count": null,
      "outputs": []
    },
    {
      "cell_type": "code",
      "source": [
        "adata # notice that the number of cells decreased"
      ],
      "metadata": {
        "id": "Ih9xhodX5auk"
      },
      "execution_count": null,
      "outputs": []
    },
    {
      "cell_type": "markdown",
      "source": [
        "### Doublet detection (scrublet)"
      ],
      "metadata": {
        "id": "mMJhCV4-6KcU"
      }
    },
    {
      "cell_type": "markdown",
      "source": [
        "- We expect very few doublets in this particular case. The majority of doublets were removed using genetic information / patient SNPs.\n"
      ],
      "metadata": {
        "id": "UAcjeugt712X"
      }
    },
    {
      "cell_type": "code",
      "source": [
        "#############################################\n",
        "# doublet detection with scrublet\n",
        "sc.pp.scrublet(adata)"
      ],
      "metadata": {
        "id": "gzlwAO9H5jgd"
      },
      "execution_count": null,
      "outputs": []
    },
    {
      "cell_type": "code",
      "source": [
        "adata # notice the columns 'doublet_score' and 'predicted_doublet' were added in obs. Also .uns appeared."
      ],
      "metadata": {
        "id": "jIFE3NE86jjE"
      },
      "execution_count": null,
      "outputs": []
    },
    {
      "cell_type": "code",
      "source": [
        "#### !!!\n",
        "#### This is NOT part of the single cell analysis\n",
        "#### we run this to create some (fake) detected doublets\n",
        "#### because no doublets are actually detected in this sample\n",
        "import numpy as np\n",
        "adata.obs[\"predicted_doublet\"] = np.random.rand(adata.n_obs) < 0.05"
      ],
      "metadata": {
        "id": "DUQ_8QmV-tuG"
      },
      "execution_count": null,
      "outputs": []
    },
    {
      "cell_type": "code",
      "source": [
        "# .value_counts(): count how many times a value appears in a column of a dataframe\n",
        "adata.obs['predicted_doublet'].value_counts()"
      ],
      "metadata": {
        "id": "HkjieXCD7Cnx"
      },
      "execution_count": null,
      "outputs": []
    },
    {
      "cell_type": "code",
      "source": [
        "##############################################\n",
        "# [🔺] AnnData challenge: filter out detected doublets!\n",
        "# Hint1: adata can be sliced as a DataFrame, i.e., adata[ some condition here ]\n",
        "# Hint2: adata.obs has the predicted_doublet column which is False for the cells we want to keep\n",
        "\n",
        "\n",
        "\n",
        "\n",
        "\n",
        "\n",
        "\n",
        "\n",
        "\n"
      ],
      "metadata": {
        "id": "JslXT6px6tmb"
      },
      "execution_count": null,
      "outputs": []
    },
    {
      "cell_type": "markdown",
      "source": [
        "## STEP 2: Normalization and log-transformation"
      ],
      "metadata": {
        "id": "LfLd53qo-fU0"
      }
    },
    {
      "cell_type": "code",
      "source": [
        "##############################################\n",
        "# Before normalization, we want to save the count data to a new layer. The .copy() in the end makes sure that the data in adata.X are duplicated!!\n",
        "# Otherwise the adata.layers[\"counts\"] and adata.X will be pointing to the same location in computer memory\n",
        "# which means that when one of them changes the other one does too. We don't want that : )\n",
        "\n",
        "adata.layers[\"counts\"] = adata.X.copy()"
      ],
      "metadata": {
        "id": "WQQHhyv67JZD"
      },
      "execution_count": null,
      "outputs": []
    },
    {
      "cell_type": "code",
      "source": [
        "adata.layers[\"counts\"].sum()"
      ],
      "metadata": {
        "id": "JEqQIR-oLXjp"
      },
      "execution_count": null,
      "outputs": []
    },
    {
      "cell_type": "code",
      "source": [
        "adata"
      ],
      "metadata": {
        "id": "TrmeUEHn-o4B"
      },
      "execution_count": null,
      "outputs": []
    },
    {
      "cell_type": "code",
      "source": [
        "##############################################\n",
        "# [🔺] Normalize data to 10K total counts\n",
        "\n",
        "\n",
        "\n",
        "\n",
        "\n",
        "\n",
        "\n",
        "\n",
        "\n",
        "\n",
        "\n"
      ],
      "metadata": {
        "id": "CitB7AIf-vU4"
      },
      "execution_count": null,
      "outputs": []
    },
    {
      "cell_type": "markdown",
      "source": [
        "- `target_sum = 10000` is kind of arbitrary but very widely used. If we don't specify the target_sum parameter, `sc.pp.normalize_total(adata)` by default will normalize to the median of the total counts.\n"
      ],
      "metadata": {
        "id": "gybD2RgPAknd"
      }
    },
    {
      "cell_type": "code",
      "source": [
        "# The only thing that changed is the X matrix (gene expression),\n",
        "# which is now normalized to sum to 10K\n",
        "adata.X.sum(1)"
      ],
      "metadata": {
        "id": "dZ2e-xIvA3ve"
      },
      "execution_count": null,
      "outputs": []
    },
    {
      "cell_type": "code",
      "source": [
        "##############################################\n",
        "# [🔺] Logarithmize the data\n",
        "\n",
        "\n",
        "\n",
        "\n",
        "\n",
        "\n",
        "\n",
        "\n",
        "\n"
      ],
      "metadata": {
        "id": "9X6EMoxQB3Ef"
      },
      "execution_count": null,
      "outputs": []
    },
    {
      "cell_type": "code",
      "source": [
        "adata.X.sum(1) # the X matrix changed. Each entry is now log(1+x)"
      ],
      "metadata": {
        "id": "AqH8bXWPB6Lk"
      },
      "execution_count": null,
      "outputs": []
    },
    {
      "cell_type": "code",
      "source": [
        "######################################################\n",
        "# [🔺] save the log1p normalized counts to a new layer! Let's call it 'log1p'\n",
        "# We want to keep these around (useful for plotting and differential expression analysis) and adata.X will change again later.\n",
        "\n",
        "\n",
        "\n",
        "\n",
        "\n",
        "\n",
        "\n",
        "\n",
        "\n"
      ],
      "metadata": {
        "id": "Uu_OtewLCAgb"
      },
      "execution_count": null,
      "outputs": []
    },
    {
      "cell_type": "code",
      "source": [],
      "metadata": {
        "id": "Mm3zlExSDDgO"
      },
      "execution_count": null,
      "outputs": []
    },
    {
      "cell_type": "markdown",
      "source": [
        "## STEP 3: Highly variable genes (feature selection)"
      ],
      "metadata": {
        "id": "-MPxDjn0Ddzo"
      }
    },
    {
      "cell_type": "code",
      "source": [
        "######################################################\n",
        "sc.pp.highly_variable_genes(adata, n_top_genes = 2000,\n",
        "                            flavor='seurat_v3',\n",
        "                            layer='counts')"
      ],
      "metadata": {
        "id": "oflkqDnRDDBO"
      },
      "execution_count": null,
      "outputs": []
    },
    {
      "cell_type": "code",
      "source": [
        "# This added information in the var dataframe\n",
        "adata.var"
      ],
      "metadata": {
        "id": "KE_qZJRRDVhd"
      },
      "execution_count": null,
      "outputs": []
    },
    {
      "cell_type": "code",
      "source": [
        "# .sort_values(): sort a dataframe with respect to the values of a given column\n",
        "# .head(10) prints the top 10\n",
        "adata.var.sort_values('highly_variable_rank').head(10)"
      ],
      "metadata": {
        "id": "L47NIuNMFVqF"
      },
      "execution_count": null,
      "outputs": []
    },
    {
      "cell_type": "markdown",
      "source": [
        "## STEP 4: Dimensionality reduction with PCA"
      ],
      "metadata": {
        "id": "Rjig-0E2HCYe"
      }
    },
    {
      "cell_type": "code",
      "source": [
        "adata # lets remind ourseleves about adata, the PCA will add a more information"
      ],
      "metadata": {
        "id": "H-QivrvHGauf"
      },
      "execution_count": null,
      "outputs": []
    },
    {
      "cell_type": "code",
      "source": [
        "#####################################################################\n",
        "# Before PCA we typically scale features to unit variance (common step but not absolutely necessary)\n",
        "# Note that this changes adata.X\n",
        "sc.pp.scale(adata, zero_center=False) # we don't want to zero center."
      ],
      "metadata": {
        "id": "1slixUy7HIWj"
      },
      "execution_count": null,
      "outputs": []
    },
    {
      "cell_type": "code",
      "source": [
        "#####################################################################\n",
        "# PCA: by default this function uses only the highly variable genes\n",
        "sc.tl.pca(adata, n_comps=50) # specify number of PCs (default is 50)"
      ],
      "metadata": {
        "id": "eI7lA4DcIpju"
      },
      "execution_count": null,
      "outputs": []
    },
    {
      "cell_type": "code",
      "source": [
        "# notice that the .obsm appeared that holds representations of the cells (embeddings)\n",
        "adata"
      ],
      "metadata": {
        "id": "BX8UcHqULTtA"
      },
      "execution_count": null,
      "outputs": []
    },
    {
      "cell_type": "code",
      "source": [
        "# X_pca is a matrix of reduced dimensions (n_comps=50 in our case).\n",
        "adata.obsm['X_pca'].shape"
      ],
      "metadata": {
        "id": "-tz4qVjmMXge"
      },
      "execution_count": null,
      "outputs": []
    },
    {
      "cell_type": "markdown",
      "source": [
        "### Visualize PCA"
      ],
      "metadata": {
        "id": "qFzAReyxJ2rA"
      }
    },
    {
      "cell_type": "code",
      "source": [
        "sc.pl.pca(adata,size=50)"
      ],
      "metadata": {
        "id": "GQPQMLQAJ4Mn"
      },
      "execution_count": null,
      "outputs": []
    },
    {
      "cell_type": "code",
      "source": [
        "sc.pl.pca(adata,color='patient_id',size=10)"
      ],
      "metadata": {
        "id": "tvEdcBsJJ62C"
      },
      "execution_count": null,
      "outputs": []
    },
    {
      "cell_type": "code",
      "source": [
        "sc.pl.pca(adata,color=['CST3','CD79A'],size=50,layer='log1p')"
      ],
      "metadata": {
        "id": "r3k669WfKEtt"
      },
      "execution_count": null,
      "outputs": []
    },
    {
      "cell_type": "code",
      "source": [],
      "metadata": {
        "id": "16h7VWcjKM1i"
      },
      "execution_count": null,
      "outputs": []
    },
    {
      "cell_type": "markdown",
      "source": [
        "## STEP 5: Nearest-neighbor graph, Clustering and UMAP projection"
      ],
      "metadata": {
        "id": "7LKjIY2fK6am"
      }
    },
    {
      "cell_type": "code",
      "source": [
        "##############################################################\n",
        "# [🔺] construct a k nearest neighbors graph (knn)\n",
        "# 1. choose which representation to use\n",
        "# 2. choose n_neighbors. Also specify random_state for reproducibility.\n",
        "\n",
        "\n",
        "\n",
        "\n",
        "\n",
        "\n",
        "\n",
        "\n",
        "\n",
        "\n"
      ],
      "metadata": {
        "id": "K5xpFlDLK947"
      },
      "execution_count": null,
      "outputs": []
    },
    {
      "cell_type": "code",
      "source": [
        "adata"
      ],
      "metadata": {
        "id": "rfT1Fb21R-Fj"
      },
      "execution_count": null,
      "outputs": []
    },
    {
      "cell_type": "code",
      "source": [
        "##############################################################\n",
        "# community detection algorithm that is used to cluster cells\n",
        "# based on the neighbors graph we computed above.\n",
        "# --> the key_added parameter defines the name of the obs column that will be added\n",
        "#     this column will have the computed cluster label for each cell\n",
        "# --> the resolution parameter specifies how coarse or fine-grained clusters will be\n",
        "\n",
        "sc.tl.leiden(adata, resolution=1, key_added='leiden') # default parameters"
      ],
      "metadata": {
        "id": "_Hk9V9SHLNTr"
      },
      "execution_count": null,
      "outputs": []
    },
    {
      "cell_type": "code",
      "source": [
        "adata"
      ],
      "metadata": {
        "id": "C4bzyyiNR_Bh"
      },
      "execution_count": null,
      "outputs": []
    },
    {
      "cell_type": "code",
      "source": [
        "##############################################################\n",
        "# run umap on the neighbors graph we computed above\n",
        "sc.tl.umap(adata, min_dist=0.5, spread=1.0) # default values for the two main parameters"
      ],
      "metadata": {
        "id": "RSU4Xa5vLEbd"
      },
      "execution_count": null,
      "outputs": []
    },
    {
      "cell_type": "code",
      "source": [
        "adata"
      ],
      "metadata": {
        "id": "ERq2AMqOR_5v"
      },
      "execution_count": null,
      "outputs": []
    },
    {
      "cell_type": "markdown",
      "source": [
        "### Visualize UMAP"
      ],
      "metadata": {
        "id": "VCESmPepRV2J"
      }
    },
    {
      "cell_type": "code",
      "source": [
        "# the color parameter can be a list of genes. Gene expression is visualized from the specified layer\n",
        "sc.pl.umap(adata,color=['CST3','CD79A'],size=50,layer='log1p')"
      ],
      "metadata": {
        "id": "545vupIqPvv0"
      },
      "execution_count": null,
      "outputs": []
    },
    {
      "cell_type": "code",
      "source": [
        "# the color parameter can also be categorical (e.g., below we specify the column from obs that holds the cluster labels we want)\n",
        "sc.pl.umap(adata,color='leiden',size=50,legend_loc='on data')"
      ],
      "metadata": {
        "id": "WIYyZgd7RdBn"
      },
      "execution_count": null,
      "outputs": []
    },
    {
      "cell_type": "code",
      "source": [
        "##############################################################\n",
        "# [🔺] Cluster the cells at a lower resolution (e.g., resolution=0.5), and visualize again\n",
        "# Important: Give a different name to the labels so that we don't overwrite the 'leiden' column in obs\n",
        "# Hint: run the sc.tl.leiden function and then visualize with sc.pl.umap functions\n",
        "# Note: you don't need to re-run the umap agorithm\n",
        "\n",
        "\n",
        "\n",
        "\n",
        "\n",
        "\n",
        "\n",
        "\n",
        "\n",
        "\n"
      ],
      "metadata": {
        "id": "D_OZgQoeRq_K"
      },
      "execution_count": null,
      "outputs": []
    },
    {
      "cell_type": "code",
      "source": [
        "# [🔹] Experiment with different neighbors, leiden and umap parameters\n",
        "\n",
        "# lets work on a copy of the AnnData object for this\n",
        "bdata = adata.copy() # anything we do with bdata won't affect adata\n",
        "\n",
        "### pp.neighbors, tl.leiden, tl.umap and plot with pl.umap\n",
        "\n",
        "\n",
        "\n",
        "\n",
        "\n",
        "\n",
        "\n",
        "\n",
        "\n",
        "\n",
        "\n"
      ],
      "metadata": {
        "id": "fRUfQ2j2xJK7"
      },
      "execution_count": null,
      "outputs": []
    },
    {
      "cell_type": "markdown",
      "source": [
        "## Differential expression analysis"
      ],
      "metadata": {
        "id": "Xy5Ku3Y2TzvP"
      }
    },
    {
      "cell_type": "code",
      "source": [
        "##############################################################\n",
        "sc.tl.rank_genes_groups(adata,\n",
        "                        groupby='leiden_coarse',\n",
        "                        method='wilcoxon',\n",
        "                        layer='log1p')"
      ],
      "metadata": {
        "id": "49nblD5lTHHP"
      },
      "execution_count": null,
      "outputs": []
    },
    {
      "cell_type": "code",
      "source": [
        "sc.pl.rank_genes_groups_dotplot(adata,\n",
        "                                n_genes=6,\n",
        "                                values_to_plot='logfoldchanges',\n",
        "                                min_logfoldchange=3,\n",
        "                                vmax=5,\n",
        "                                vmin=-5,\n",
        "                                cmap='bwr',\n",
        "                                dot_max=0.7)\n"
      ],
      "metadata": {
        "id": "QhUHKC5YTSAW"
      },
      "execution_count": null,
      "outputs": []
    },
    {
      "cell_type": "code",
      "source": [
        "##############################################################\n",
        "# [🔺] annotate the clusters!!\n",
        "\n",
        "clusters_to_labels = {\n",
        "    '0':'?',\n",
        "    '1':'??',\n",
        "    '2':'???',\n",
        "    '3':'????'\n",
        "\n",
        "}\n",
        "\n",
        "# use the above dict to create a new column in obs with all cells labeled\n",
        "# this is done by first mapping the cluster column to the values of the dict\n",
        "# and assigning the result to a new column in obs\n",
        "adata.obs['???'] = adata.obs['???'].map(clusters_to_labels)\n",
        "\n",
        "\n",
        "## umap plot with the new labels\n",
        "sc.pl.umap(adata,color='???',size=50,legend_loc='on data',legend_fontoutline=2,legend_fontsize=50)"
      ],
      "metadata": {
        "id": "19n1Owe9TYGM"
      },
      "execution_count": null,
      "outputs": []
    },
    {
      "cell_type": "markdown",
      "source": [
        "## STEP 6: Save the processed dataset"
      ],
      "metadata": {
        "id": "4WOAPFMWXpp2"
      }
    },
    {
      "cell_type": "code",
      "source": [
        "adata.write_h5ad('blood_RNA_BMS225a_single_batch.h5ad') # this will be deleted when this session ends"
      ],
      "metadata": {
        "id": "SXqSZO5GXo_m"
      },
      "execution_count": null,
      "outputs": []
    },
    {
      "cell_type": "code",
      "source": [
        "# [🔺] The h5ad file is too big to download so let's mount google drive from the Files tab and save it there\n",
        "# adata.write_h5ad('/content/drive/MyDrive/your_project_folder/blood_RNA_BMS225a_single_batch.h5ad')"
      ],
      "metadata": {
        "id": "pT6D6a5EXo8x"
      },
      "execution_count": null,
      "outputs": []
    },
    {
      "cell_type": "markdown",
      "source": [
        "# Compact version of the analysis"
      ],
      "metadata": {
        "id": "gLw02tswCDZC"
      }
    },
    {
      "cell_type": "code",
      "source": [
        "### [🔺] re-run all the commands that are necessary to get us from the raw data to the processed dataset\n",
        "### For this compact version we can skip steps that print dataframes/ plot data / etc\n",
        "\n",
        "new_data = sc.read_h5ad('blood_RNA_raw_counts_SCG12.h5ad')\n",
        "\n",
        "\n",
        "#...\n",
        "\n",
        "\n",
        "#...\n",
        "\n",
        "\n",
        "#...\n",
        "\n",
        "\n",
        "#...\n",
        "\n",
        "\n",
        "#...\n",
        "\n",
        "\n",
        "#...\n",
        "\n",
        "\n",
        "#...\n",
        "\n",
        "\n",
        "#...\n",
        "\n",
        "### if everything is right we should be able to get the same umap as above\n",
        "sc.pl.umap(new_data,...)"
      ],
      "metadata": {
        "id": "6FD3Bec0VtqZ"
      },
      "execution_count": null,
      "outputs": []
    },
    {
      "cell_type": "markdown",
      "source": [
        "# DONE"
      ],
      "metadata": {
        "id": "ZLhAnqPc3bYW"
      }
    }
  ]
}